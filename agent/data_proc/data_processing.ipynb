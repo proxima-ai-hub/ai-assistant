{
 "cells": [
  {
   "cell_type": "code",
   "execution_count": 183,
   "id": "3c49bb07",
   "metadata": {
    "ExecuteTime": {
     "end_time": "2024-09-07T20:39:41.368196Z",
     "start_time": "2024-09-07T20:39:41.363900Z"
    }
   },
   "outputs": [],
   "source": [
    "import pandas as pd\n",
    "import numpy as np\n",
    "\n",
    "import os\n",
    "from tqdm import tqdm\n",
    "import pickle\n",
    "pd.set_option('display.max_columns', None)"
   ]
  },
  {
   "cell_type": "markdown",
   "id": "81a23fd9",
   "metadata": {},
   "source": [
    "# Split Data"
   ]
  },
  {
   "cell_type": "code",
   "execution_count": 378,
   "id": "5df47796",
   "metadata": {
    "ExecuteTime": {
     "end_time": "2024-09-12T12:04:59.107523Z",
     "start_time": "2024-09-12T12:04:58.950055Z"
    }
   },
   "outputs": [],
   "source": [
    "from openpyxl import load_workbook\n",
    "import pandas as pd\n",
    "workbook = load_workbook('./raw/LK_modified.xlsx')\n",
    "sheet_names = workbook.sheetnames"
   ]
  },
  {
   "cell_type": "code",
   "execution_count": 379,
   "id": "91de37a6",
   "metadata": {
    "ExecuteTime": {
     "end_time": "2024-09-12T12:04:59.337356Z",
     "start_time": "2024-09-12T12:04:59.289015Z"
    }
   },
   "outputs": [],
   "source": [
    "data = []\n",
    "sheet = workbook[sheet_names[1]]\n",
    "for row in sheet.iter_rows(values_only=True):\n",
    "    data.append(row)\n",
    "df_qa = pd.DataFrame(data[1:], columns=data[0])\n",
    "df_qa.to_csv('data_qa.csv')"
   ]
  },
  {
   "cell_type": "code",
   "execution_count": 380,
   "id": "5b25618f",
   "metadata": {
    "ExecuteTime": {
     "end_time": "2024-09-12T12:04:59.700922Z",
     "start_time": "2024-09-12T12:04:59.693501Z"
    }
   },
   "outputs": [],
   "source": [
    "data = []\n",
    "sheet = workbook[sheet_names[2]]\n",
    "for row in sheet.iter_rows(values_only=True):\n",
    "    data.append(row)\n",
    "df_glossary = pd.DataFrame(data[1:], columns=data[0])\n",
    "df_glossary.to_csv('data_glossary.csv')"
   ]
  },
  {
   "cell_type": "code",
   "execution_count": 381,
   "id": "494b9a49",
   "metadata": {
    "ExecuteTime": {
     "end_time": "2024-09-12T12:05:00.096427Z",
     "start_time": "2024-09-12T12:05:00.089295Z"
    }
   },
   "outputs": [],
   "source": [
    "data = []\n",
    "sheet = workbook[sheet_names[0]]\n",
    "for row in sheet.iter_rows(values_only=True):\n",
    "    data.append(row)\n",
    "df_qa_popular = pd.DataFrame(data[1:], columns=data[0])\n",
    "df_qa_popular.to_csv('data_qa_popular.csv')"
   ]
  },
  {
   "cell_type": "markdown",
   "id": "d53bbb66",
   "metadata": {},
   "source": [
    "# Glossary"
   ]
  },
  {
   "cell_type": "code",
   "execution_count": 382,
   "id": "7adf3666",
   "metadata": {
    "ExecuteTime": {
     "end_time": "2024-09-12T12:05:01.650351Z",
     "start_time": "2024-09-12T12:05:01.641909Z"
    }
   },
   "outputs": [
    {
     "data": {
      "text/html": [
       "<div>\n",
       "<style scoped>\n",
       "    .dataframe tbody tr th:only-of-type {\n",
       "        vertical-align: middle;\n",
       "    }\n",
       "\n",
       "    .dataframe tbody tr th {\n",
       "        vertical-align: top;\n",
       "    }\n",
       "\n",
       "    .dataframe thead th {\n",
       "        text-align: right;\n",
       "    }\n",
       "</style>\n",
       "<table border=\"1\" class=\"dataframe\">\n",
       "  <thead>\n",
       "    <tr style=\"text-align: right;\">\n",
       "      <th></th>\n",
       "      <th>Сокращение</th>\n",
       "      <th>Расшифровка</th>\n",
       "    </tr>\n",
       "  </thead>\n",
       "  <tbody>\n",
       "    <tr>\n",
       "      <th>0</th>\n",
       "      <td>лк</td>\n",
       "      <td>личный кабинет</td>\n",
       "    </tr>\n",
       "    <tr>\n",
       "      <th>1</th>\n",
       "      <td>БиР</td>\n",
       "      <td>Беременность и роды</td>\n",
       "    </tr>\n",
       "    <tr>\n",
       "      <th>2</th>\n",
       "      <td>зп</td>\n",
       "      <td>заработная плата</td>\n",
       "    </tr>\n",
       "    <tr>\n",
       "      <th>3</th>\n",
       "      <td>НДФЛ</td>\n",
       "      <td>Налог на доходы физических лиц</td>\n",
       "    </tr>\n",
       "    <tr>\n",
       "      <th>4</th>\n",
       "      <td>СТД</td>\n",
       "      <td>срочный трудовой договор</td>\n",
       "    </tr>\n",
       "    <tr>\n",
       "      <th>5</th>\n",
       "      <td>ТК</td>\n",
       "      <td>трудовой договор</td>\n",
       "    </tr>\n",
       "    <tr>\n",
       "      <th>6</th>\n",
       "      <td>АО</td>\n",
       "      <td>авансовый отчет</td>\n",
       "    </tr>\n",
       "    <tr>\n",
       "      <th>7</th>\n",
       "      <td>SLA</td>\n",
       "      <td>сроки</td>\n",
       "    </tr>\n",
       "    <tr>\n",
       "      <th>8</th>\n",
       "      <td>ЭЦП</td>\n",
       "      <td>электронная цифровая подпись</td>\n",
       "    </tr>\n",
       "    <tr>\n",
       "      <th>9</th>\n",
       "      <td>КР</td>\n",
       "      <td>кадровый резерв</td>\n",
       "    </tr>\n",
       "  </tbody>\n",
       "</table>\n",
       "</div>"
      ],
      "text/plain": [
       "  Сокращение                     Расшифровка\n",
       "0         лк                  личный кабинет\n",
       "1        БиР             Беременность и роды\n",
       "2         зп                заработная плата\n",
       "3       НДФЛ  Налог на доходы физических лиц\n",
       "4        СТД        срочный трудовой договор\n",
       "5         ТК                трудовой договор\n",
       "6         АО                 авансовый отчет\n",
       "7        SLA                           сроки\n",
       "8        ЭЦП    электронная цифровая подпись\n",
       "9         КР                 кадровый резерв"
      ]
     },
     "execution_count": 382,
     "metadata": {},
     "output_type": "execute_result"
    }
   ],
   "source": [
    "df_glossary"
   ]
  },
  {
   "cell_type": "code",
   "execution_count": 383,
   "id": "2f4ad537",
   "metadata": {
    "ExecuteTime": {
     "end_time": "2024-09-12T12:05:02.037621Z",
     "start_time": "2024-09-12T12:05:02.032420Z"
    }
   },
   "outputs": [],
   "source": [
    "df_glossary['Расшифровка'] = df_glossary['Расшифровка'].str.lower()\n",
    "df_glossary['Сокращение'] = df_glossary['Сокращение'].str.lower()"
   ]
  },
  {
   "cell_type": "code",
   "execution_count": 384,
   "id": "56598ad8",
   "metadata": {
    "ExecuteTime": {
     "end_time": "2024-09-12T12:05:02.334694Z",
     "start_time": "2024-09-12T12:05:02.329400Z"
    }
   },
   "outputs": [],
   "source": [
    "dict_glossary = pd.Series(df_glossary['Расшифровка'].values,index=df_glossary['Сокращение']).to_dict()"
   ]
  },
  {
   "cell_type": "code",
   "execution_count": 385,
   "id": "5fdf7b9a",
   "metadata": {
    "ExecuteTime": {
     "end_time": "2024-09-12T12:05:02.508853Z",
     "start_time": "2024-09-12T12:05:02.499682Z"
    }
   },
   "outputs": [
    {
     "data": {
      "text/plain": [
       "{'лк': 'личный кабинет',\n",
       " 'бир': 'беременность и роды',\n",
       " 'зп': 'зарплата',\n",
       " 'ндфл': 'налог на доходы физических лиц',\n",
       " 'стд': 'срочный трудовой договор',\n",
       " 'тк': 'трудовая книжка',\n",
       " 'ао': 'авансовый отчет',\n",
       " 'sla': 'сроки',\n",
       " 'эцп': 'электронная цифровая подпись',\n",
       " 'кр': 'кадровый резерв',\n",
       " 'тк рф': 'трудовой кодекс',\n",
       " 'рф': 'российская федерация',\n",
       " 'мчд': 'машиночитаемая доверенность',\n",
       " 'ур': 'удалённая работа',\n",
       " 'дмс': 'добровольное медицинское страхование',\n",
       " 'дм': 'директор магазина',\n",
       " 'дмп': 'директор магазина партнёр',\n",
       " 'здм': 'заместитель директора магазина',\n",
       " 'адм': 'ассистент директора магазина',\n",
       " 'есп': 'единая система подбора',\n",
       " 'эп': 'электронная подпись',\n",
       " 'з/п': 'зарплата',\n",
       " 'дк': 'директор кластеров',\n",
       " 'мп': 'мобильное приложение',\n",
       " 'lk': 'личный кабинет',\n",
       " 'бл': 'больничный лист',\n",
       " 'бс': 'отпуск без содержания',\n",
       " 'укэп': 'усиленная квалифицированная электронная подпись',\n",
       " 'унэп': 'усиленная неквалифицированная электронная подпись',\n",
       " 'фл': 'физическое лицо'}"
      ]
     },
     "execution_count": 385,
     "metadata": {},
     "output_type": "execute_result"
    }
   ],
   "source": [
    "# АТЗ, 790 - 793 доп отпуска ЧАЭЕ,МКС,РКС, НРД, 832 БС, 907 СОТ?, 988 сф бп,1501 дс - доп соглашение\n",
    "dict_glossary['тк'] = 'трудовая книжка'\n",
    "# dict_glossary['тк рф'] = 'трудовой кодекс российской федерации'\n",
    "dict_glossary['тк рф'] = 'трудовой кодекс'\n",
    "dict_glossary['рф'] = 'российская федерация'\n",
    "dict_glossary['мчд'] = 'машиночитаемая доверенность'\n",
    "dict_glossary['ур'] = 'удалённая работа'\n",
    "# dict_glossary['2ндфл'] =\n",
    "dict_glossary['дмс'] = 'добровольное медицинское страхование'\n",
    "dict_glossary['дм'] = 'директор магазина'\n",
    "dict_glossary['дмп'] = 'директор магазина партнёр'\n",
    "dict_glossary['здм'] = 'заместитель директора магазина'\n",
    "dict_glossary['адм'] = 'ассистент директора магазина'\n",
    "dict_glossary['есп'] = 'единая система подбора'\n",
    "dict_glossary['эп'] = 'электронная подпись'\n",
    "dict_glossary['зп'] = 'зарплата'\n",
    "dict_glossary['з/п'] = 'зарплата'\n",
    "dict_glossary['дк'] = 'директор кластеров'\n",
    "dict_glossary['мп'] = 'мобильное приложение'\n",
    "dict_glossary['кр'] = 'кадровый резерв'\n",
    "dict_glossary['lk'] = 'личный кабинет'\n",
    "dict_glossary['бл'] = 'больничный лист'\n",
    "dict_glossary['бс'] = 'отпуск без содержания'\n",
    "dict_glossary['укэп'] = 'усиленная квалифицированная электронная подпись'\n",
    "dict_glossary['унэп'] = 'усиленная неквалифицированная электронная подпись'\n",
    "dict_glossary['фл'] = 'физическое лицо'\n",
    "dict_glossary"
   ]
  },
  {
   "cell_type": "markdown",
   "id": "974b6a21",
   "metadata": {},
   "source": [
    "# Processing"
   ]
  },
  {
   "cell_type": "code",
   "execution_count": 386,
   "id": "cdc64985",
   "metadata": {
    "ExecuteTime": {
     "end_time": "2024-09-12T12:05:02.863880Z",
     "start_time": "2024-09-12T12:05:02.857088Z"
    }
   },
   "outputs": [
    {
     "data": {
      "text/plain": [
       "dict_keys(['лк', 'бир', 'зп', 'ндфл', 'стд', 'тк', 'ао', 'sla', 'эцп', 'кр', 'тк рф', 'рф', 'мчд', 'ур', 'дмс', 'дм', 'дмп', 'здм', 'адм', 'есп', 'эп', 'з/п', 'дк', 'мп', 'lk', 'бл', 'бс', 'укэп', 'унэп', 'фл'])"
      ]
     },
     "execution_count": 386,
     "metadata": {},
     "output_type": "execute_result"
    }
   ],
   "source": [
    "from string import punctuation\n",
    "punctuation_marks = set(punctuation)\n",
    "\n",
    "glossary = dict_glossary.keys()\n",
    "glossary"
   ]
  },
  {
   "cell_type": "code",
   "execution_count": 387,
   "id": "6e55a57c",
   "metadata": {
    "ExecuteTime": {
     "end_time": "2024-09-12T12:05:03.046701Z",
     "start_time": "2024-09-12T12:05:03.027923Z"
    }
   },
   "outputs": [],
   "source": [
    "df_qa['question'] = df_qa['question'].str.lower()\n",
    "df_qa['content'] = df_qa['content'].str.lower()\n",
    "df_qa['category'] = df_qa['category'].str.lower()"
   ]
  },
  {
   "cell_type": "code",
   "execution_count": 388,
   "id": "e0e71fcf",
   "metadata": {
    "ExecuteTime": {
     "end_time": "2024-09-12T12:05:03.936351Z",
     "start_time": "2024-09-12T12:05:03.927719Z"
    }
   },
   "outputs": [],
   "source": [
    "def replace_abbr(content_list):\n",
    "    content_list_changed=[]\n",
    "    for content in content_list:\n",
    "        content_list = content.lower().split()\n",
    "        for ind, word in enumerate(content_list):\n",
    "            sign = ''\n",
    "            if(word[-1] in punctuation_marks):\n",
    "                sign = word[-1]\n",
    "                word = word[:-1:]\n",
    "            if word in glossary:   \n",
    "                if word == 'тк':\n",
    "                    word2 = content_list[ind+1]\n",
    "                    if word2[-1] in punctuation_marks:\n",
    "                        sign = word2[-1]\n",
    "                        word2 = word2[:-1:]\n",
    "                    if(word2 == 'рф'):\n",
    "                        content_list[ind] = dict_glossary['тк рф']\n",
    "                        continue    \n",
    "                content_list[ind] =  dict_glossary[word] + sign\n",
    "        content_list_changed.append(\" \".join(content_list))\n",
    "    return content_list_changed"
   ]
  },
  {
   "cell_type": "code",
   "execution_count": 389,
   "id": "2e3568d3",
   "metadata": {
    "ExecuteTime": {
     "end_time": "2024-09-12T12:05:05.336843Z",
     "start_time": "2024-09-12T12:05:05.287492Z"
    }
   },
   "outputs": [],
   "source": [
    "df_qa['question_changed'] = replace_abbr(df_qa.question.to_list())\n",
    "df_qa['content_changed'] =  replace_abbr(df_qa.content.to_list())\n",
    "df_qa['category_changed'] = replace_abbr(df_qa.category.to_list())"
   ]
  },
  {
   "cell_type": "code",
   "execution_count": 390,
   "id": "2aece02c",
   "metadata": {
    "ExecuteTime": {
     "end_time": "2024-09-12T12:05:06.606257Z",
     "start_time": "2024-09-12T12:05:06.595687Z"
    }
   },
   "outputs": [
    {
     "data": {
      "text/html": [
       "<div>\n",
       "<style scoped>\n",
       "    .dataframe tbody tr th:only-of-type {\n",
       "        vertical-align: middle;\n",
       "    }\n",
       "\n",
       "    .dataframe tbody tr th {\n",
       "        vertical-align: top;\n",
       "    }\n",
       "\n",
       "    .dataframe thead th {\n",
       "        text-align: right;\n",
       "    }\n",
       "</style>\n",
       "<table border=\"1\" class=\"dataframe\">\n",
       "  <thead>\n",
       "    <tr style=\"text-align: right;\">\n",
       "      <th></th>\n",
       "      <th>None</th>\n",
       "      <th>question</th>\n",
       "      <th>content</th>\n",
       "      <th>category</th>\n",
       "      <th>question_changed</th>\n",
       "      <th>content_changed</th>\n",
       "      <th>category_changed</th>\n",
       "    </tr>\n",
       "  </thead>\n",
       "  <tbody>\n",
       "    <tr>\n",
       "      <th>951</th>\n",
       "      <td>967</td>\n",
       "      <td>3 мая сотруднику был назначен тест по текущей ...</td>\n",
       "      <td>создайте, пожалуйста, обращение в ит поддержку...</td>\n",
       "      <td>поддержка</td>\n",
       "      <td>3 мая сотруднику был назначен тест по текущей ...</td>\n",
       "      <td>создайте, пожалуйста, обращение в ит поддержку...</td>\n",
       "      <td>поддержка</td>\n",
       "    </tr>\n",
       "    <tr>\n",
       "      <th>1030</th>\n",
       "      <td>1046</td>\n",
       "      <td>не формируются документы на отпуск без сохране...</td>\n",
       "      <td>создайте, пожалуйста, обращение в ит поддержку...</td>\n",
       "      <td>поддержка</td>\n",
       "      <td>не формируются документы на отпуск без сохране...</td>\n",
       "      <td>создайте, пожалуйста, обращение в ит поддержку...</td>\n",
       "      <td>поддержка</td>\n",
       "    </tr>\n",
       "    <tr>\n",
       "      <th>788</th>\n",
       "      <td>803</td>\n",
       "      <td>как оформить доп. дни отпуска за сдачу крови</td>\n",
       "      <td>при сдаче крови и её компонентов, предоставляе...</td>\n",
       "      <td>отпуск</td>\n",
       "      <td>как оформить доп. дни отпуска за сдачу крови</td>\n",
       "      <td>при сдаче крови и её компонентов, предоставляе...</td>\n",
       "      <td>отпуск</td>\n",
       "    </tr>\n",
       "    <tr>\n",
       "      <th>38</th>\n",
       "      <td>38</td>\n",
       "      <td>нужно провести отпуск беременной сотруднице</td>\n",
       "      <td>для оформления ежегодного отпуска вне графика ...</td>\n",
       "      <td>бир</td>\n",
       "      <td>нужно провести отпуск беременной сотруднице</td>\n",
       "      <td>для оформления ежегодного отпуска вне графика ...</td>\n",
       "      <td>беременность и роды</td>\n",
       "    </tr>\n",
       "    <tr>\n",
       "      <th>693</th>\n",
       "      <td>706</td>\n",
       "      <td>у сотрудника нет в личном кабинете кнопки на о...</td>\n",
       "      <td>доступ к программе \"карьера\" появляется спустя...</td>\n",
       "      <td>моя карьера</td>\n",
       "      <td>у сотрудника нет в личном кабинете кнопки на о...</td>\n",
       "      <td>доступ к программе \"карьера\" появляется спустя...</td>\n",
       "      <td>моя карьера</td>\n",
       "    </tr>\n",
       "  </tbody>\n",
       "</table>\n",
       "</div>"
      ],
      "text/plain": [
       "      None                                           question  \\\n",
       "951    967  3 мая сотруднику был назначен тест по текущей ...   \n",
       "1030  1046  не формируются документы на отпуск без сохране...   \n",
       "788    803       как оформить доп. дни отпуска за сдачу крови   \n",
       "38      38        нужно провести отпуск беременной сотруднице   \n",
       "693    706  у сотрудника нет в личном кабинете кнопки на о...   \n",
       "\n",
       "                                                content     category  \\\n",
       "951   создайте, пожалуйста, обращение в ит поддержку...    поддержка   \n",
       "1030  создайте, пожалуйста, обращение в ит поддержку...    поддержка   \n",
       "788   при сдаче крови и её компонентов, предоставляе...       отпуск   \n",
       "38    для оформления ежегодного отпуска вне графика ...          бир   \n",
       "693   доступ к программе \"карьера\" появляется спустя...  моя карьера   \n",
       "\n",
       "                                       question_changed  \\\n",
       "951   3 мая сотруднику был назначен тест по текущей ...   \n",
       "1030  не формируются документы на отпуск без сохране...   \n",
       "788        как оформить доп. дни отпуска за сдачу крови   \n",
       "38          нужно провести отпуск беременной сотруднице   \n",
       "693   у сотрудника нет в личном кабинете кнопки на о...   \n",
       "\n",
       "                                        content_changed     category_changed  \n",
       "951   создайте, пожалуйста, обращение в ит поддержку...            поддержка  \n",
       "1030  создайте, пожалуйста, обращение в ит поддержку...            поддержка  \n",
       "788   при сдаче крови и её компонентов, предоставляе...               отпуск  \n",
       "38    для оформления ежегодного отпуска вне графика ...  беременность и роды  \n",
       "693   доступ к программе \"карьера\" появляется спустя...          моя карьера  "
      ]
     },
     "execution_count": 390,
     "metadata": {},
     "output_type": "execute_result"
    }
   ],
   "source": [
    "df_qa.sample(5)"
   ]
  },
  {
   "cell_type": "code",
   "execution_count": 391,
   "id": "8d58f62d",
   "metadata": {
    "ExecuteTime": {
     "end_time": "2024-09-12T12:05:08.794966Z",
     "start_time": "2024-09-12T12:05:08.788033Z"
    },
    "code_folding": [
     0
    ]
   },
   "outputs": [],
   "source": [
    "# q_list = df_qa.question.to_list()\n",
    "# q_list_changed=[]\n",
    "# for question in q_list:\n",
    "#     question_list = question.lower().split()\n",
    "#     for ind, word in enumerate(question_list):\n",
    "#         sign = ''\n",
    "#         if(word[-1] in punctuation_marks):\n",
    "#             sign = word[-1]\n",
    "#             word = word[:-1:]\n",
    "#         if word in glossary:\n",
    "#             question_list[ind] =  dict_glossary[word] + sign\n",
    "#     q_list_changed.append(\" \".join(question_list))\n",
    "# df_qa['question_changed'] = q_list_changed\n",
    "\n",
    "# content_list = df_qa.content.to_list()\n",
    "# content_list_changed=[]\n",
    "# for content in content_list:\n",
    "#     content_list = content.lower().split()\n",
    "#     for ind, word in enumerate(content_list):\n",
    "#         sign = ''\n",
    "#         if(word[-1] in punctuation_marks):\n",
    "#             sign = word[-1]\n",
    "#             word = word[:-1:]\n",
    "#         if word in glossary:\n",
    "#             content_list[ind] =  dict_glossary[word] + sign\n",
    "#     content_list_changed.append(\" \".join(content_list))\n",
    "# df_qa['content_changed'] = content_list_changed\n",
    "\n",
    "# category_list = df_qa.category.to_list()\n",
    "# category_list_changed=[]\n",
    "# for category in category_list:\n",
    "#     category_list = category.lower().split()\n",
    "#     for ind, word in enumerate(category_list):\n",
    "#         sign = ''\n",
    "#         if(word[-1] in punctuation_marks):\n",
    "#             word = word[:-1:]\n",
    "#             sign = word[-1]\n",
    "#         if word in glossary:\n",
    "#             category_list[ind] =  dict_glossary[word] + sign\n",
    "#     category_list_changed.append(\" \".join(category_list))\n",
    "# df_qa['category_changed'] = category_list_changed"
   ]
  },
  {
   "cell_type": "code",
   "execution_count": 392,
   "id": "cac1befa",
   "metadata": {
    "ExecuteTime": {
     "end_time": "2024-09-12T12:05:09.266945Z",
     "start_time": "2024-09-12T12:05:09.260174Z"
    }
   },
   "outputs": [
    {
     "data": {
      "text/plain": [
       "array(['автомобиль', 'бир', 'больничный', 'график работы', 'доверенность',\n",
       "       'зарплата', 'заявки', 'командировка', 'лк', 'материальная помощь',\n",
       "       'моя карьера', 'мчд', 'налоговый вычет', 'отгул', 'отпуск',\n",
       "       'перевод', 'поддержка', 'эцп', 'документооборот',\n",
       "       'прием на работу', 'сб', 'справка', 'табель', 'увольнение',\n",
       "       'удаленная работа', 'уход за больным', 'sed', 'выручай-карта',\n",
       "       'дмс', 'оператор', 'обучение'], dtype=object)"
      ]
     },
     "execution_count": 392,
     "metadata": {},
     "output_type": "execute_result"
    }
   ],
   "source": [
    "df_qa.category.unique()"
   ]
  },
  {
   "cell_type": "markdown",
   "id": "c121c5c4",
   "metadata": {},
   "source": [
    "# Drop duplicates"
   ]
  },
  {
   "cell_type": "code",
   "execution_count": 393,
   "id": "1b95fc23",
   "metadata": {
    "ExecuteTime": {
     "end_time": "2024-09-12T12:05:10.175249Z",
     "start_time": "2024-09-12T12:05:10.155564Z"
    }
   },
   "outputs": [
    {
     "name": "stdout",
     "output_type": "stream",
     "text": [
      "<class 'pandas.core.frame.DataFrame'>\n",
      "Index: 1630 entries, 0 to 1675\n",
      "Data columns (total 7 columns):\n",
      " #   Column            Non-Null Count  Dtype \n",
      "---  ------            --------------  ----- \n",
      " 0   None              1630 non-null   int64 \n",
      " 1   question          1630 non-null   object\n",
      " 2   content           1630 non-null   object\n",
      " 3   category          1630 non-null   object\n",
      " 4   question_changed  1630 non-null   object\n",
      " 5   content_changed   1630 non-null   object\n",
      " 6   category_changed  1630 non-null   object\n",
      "dtypes: int64(1), object(6)\n",
      "memory usage: 101.9+ KB\n"
     ]
    }
   ],
   "source": [
    "df_qa = df_qa.drop_duplicates(subset=['question_changed','content_changed'], keep='last')\n",
    "df_qa.info()"
   ]
  },
  {
   "cell_type": "code",
   "execution_count": 394,
   "id": "443b8727",
   "metadata": {
    "ExecuteTime": {
     "end_time": "2024-09-12T12:05:12.402808Z",
     "start_time": "2024-09-12T12:05:12.391655Z"
    }
   },
   "outputs": [
    {
     "data": {
      "text/html": [
       "<div>\n",
       "<style scoped>\n",
       "    .dataframe tbody tr th:only-of-type {\n",
       "        vertical-align: middle;\n",
       "    }\n",
       "\n",
       "    .dataframe tbody tr th {\n",
       "        vertical-align: top;\n",
       "    }\n",
       "\n",
       "    .dataframe thead th {\n",
       "        text-align: right;\n",
       "    }\n",
       "</style>\n",
       "<table border=\"1\" class=\"dataframe\">\n",
       "  <thead>\n",
       "    <tr style=\"text-align: right;\">\n",
       "      <th></th>\n",
       "      <th>None</th>\n",
       "      <th>question</th>\n",
       "      <th>content</th>\n",
       "      <th>category</th>\n",
       "      <th>question_changed</th>\n",
       "      <th>content_changed</th>\n",
       "      <th>category_changed</th>\n",
       "    </tr>\n",
       "  </thead>\n",
       "  <tbody>\n",
       "    <tr>\n",
       "      <th>205</th>\n",
       "      <td>205</td>\n",
       "      <td>архивная задача вернулась</td>\n",
       "      <td>если сотрудник архива не выполнил задача \"подт...</td>\n",
       "      <td>лк</td>\n",
       "      <td>архивная задача вернулась</td>\n",
       "      <td>если сотрудник архива не выполнил задача \"подт...</td>\n",
       "      <td>личный кабинет</td>\n",
       "    </tr>\n",
       "    <tr>\n",
       "      <th>221</th>\n",
       "      <td>221</td>\n",
       "      <td>не могу закрыть заявку</td>\n",
       "      <td>первым делом, просьба очистить кэш/куки браузе...</td>\n",
       "      <td>лк</td>\n",
       "      <td>не могу закрыть заявку</td>\n",
       "      <td>первым делом, просьба очистить кэш/куки браузе...</td>\n",
       "      <td>личный кабинет</td>\n",
       "    </tr>\n",
       "    <tr>\n",
       "      <th>838</th>\n",
       "      <td>854</td>\n",
       "      <td>архивная задача вернулась</td>\n",
       "      <td>есть причины, по которым сотрудник может не уч...</td>\n",
       "      <td>отпуск</td>\n",
       "      <td>архивная задача вернулась</td>\n",
       "      <td>есть причины, по которым сотрудник может не уч...</td>\n",
       "      <td>отпуск</td>\n",
       "    </tr>\n",
       "    <tr>\n",
       "      <th>932</th>\n",
       "      <td>948</td>\n",
       "      <td>надбавка</td>\n",
       "      <td>создайте, пожалуйста, обращение в ит поддержку...</td>\n",
       "      <td>поддержка</td>\n",
       "      <td>надбавка</td>\n",
       "      <td>создайте, пожалуйста, обращение в ит поддержку...</td>\n",
       "      <td>поддержка</td>\n",
       "    </tr>\n",
       "    <tr>\n",
       "      <th>1105</th>\n",
       "      <td>1121</td>\n",
       "      <td>не могу закрыть заявку</td>\n",
       "      <td>создайте, пожалуйста, обращение в ит поддержку...</td>\n",
       "      <td>поддержка</td>\n",
       "      <td>не могу закрыть заявку</td>\n",
       "      <td>создайте, пожалуйста, обращение в ит поддержку...</td>\n",
       "      <td>поддержка</td>\n",
       "    </tr>\n",
       "    <tr>\n",
       "      <th>1664</th>\n",
       "      <td>1695</td>\n",
       "      <td>надбавка</td>\n",
       "      <td>по данному вопросу вы можете обратиться в кадр...</td>\n",
       "      <td>лк</td>\n",
       "      <td>надбавка</td>\n",
       "      <td>по данному вопросу вы можете обратиться в кадр...</td>\n",
       "      <td>личный кабинет</td>\n",
       "    </tr>\n",
       "  </tbody>\n",
       "</table>\n",
       "</div>"
      ],
      "text/plain": [
       "      None                   question  \\\n",
       "205    205  архивная задача вернулась   \n",
       "221    221     не могу закрыть заявку   \n",
       "838    854  архивная задача вернулась   \n",
       "932    948                   надбавка   \n",
       "1105  1121     не могу закрыть заявку   \n",
       "1664  1695                   надбавка   \n",
       "\n",
       "                                                content   category  \\\n",
       "205   если сотрудник архива не выполнил задача \"подт...         лк   \n",
       "221   первым делом, просьба очистить кэш/куки браузе...         лк   \n",
       "838   есть причины, по которым сотрудник может не уч...     отпуск   \n",
       "932   создайте, пожалуйста, обращение в ит поддержку...  поддержка   \n",
       "1105  создайте, пожалуйста, обращение в ит поддержку...  поддержка   \n",
       "1664  по данному вопросу вы можете обратиться в кадр...         лк   \n",
       "\n",
       "               question_changed  \\\n",
       "205   архивная задача вернулась   \n",
       "221      не могу закрыть заявку   \n",
       "838   архивная задача вернулась   \n",
       "932                    надбавка   \n",
       "1105     не могу закрыть заявку   \n",
       "1664                   надбавка   \n",
       "\n",
       "                                        content_changed category_changed  \n",
       "205   если сотрудник архива не выполнил задача \"подт...   личный кабинет  \n",
       "221   первым делом, просьба очистить кэш/куки браузе...   личный кабинет  \n",
       "838   есть причины, по которым сотрудник может не уч...           отпуск  \n",
       "932   создайте, пожалуйста, обращение в ит поддержку...        поддержка  \n",
       "1105  создайте, пожалуйста, обращение в ит поддержку...        поддержка  \n",
       "1664  по данному вопросу вы можете обратиться в кадр...   личный кабинет  "
      ]
     },
     "execution_count": 394,
     "metadata": {},
     "output_type": "execute_result"
    }
   ],
   "source": [
    "df_qa[df_qa.duplicated(subset=['question_changed'], keep=False)]"
   ]
  },
  {
   "cell_type": "code",
   "execution_count": 395,
   "id": "95cc6c54",
   "metadata": {
    "ExecuteTime": {
     "end_time": "2024-09-12T12:05:14.553524Z",
     "start_time": "2024-09-12T12:05:14.545292Z"
    }
   },
   "outputs": [],
   "source": [
    "df_qa = df_qa[~df_qa[None].isin([854, 1121, 948])]"
   ]
  },
  {
   "cell_type": "code",
   "execution_count": 400,
   "id": "4e04fdfe",
   "metadata": {
    "ExecuteTime": {
     "end_time": "2024-09-12T12:06:04.546884Z",
     "start_time": "2024-09-12T12:06:04.536785Z"
    }
   },
   "outputs": [
    {
     "data": {
      "text/html": [
       "<div>\n",
       "<style scoped>\n",
       "    .dataframe tbody tr th:only-of-type {\n",
       "        vertical-align: middle;\n",
       "    }\n",
       "\n",
       "    .dataframe tbody tr th {\n",
       "        vertical-align: top;\n",
       "    }\n",
       "\n",
       "    .dataframe thead th {\n",
       "        text-align: right;\n",
       "    }\n",
       "</style>\n",
       "<table border=\"1\" class=\"dataframe\">\n",
       "  <thead>\n",
       "    <tr style=\"text-align: right;\">\n",
       "      <th></th>\n",
       "      <th>None</th>\n",
       "      <th>question</th>\n",
       "      <th>content</th>\n",
       "      <th>category</th>\n",
       "      <th>question_changed</th>\n",
       "      <th>content_changed</th>\n",
       "      <th>category_changed</th>\n",
       "    </tr>\n",
       "  </thead>\n",
       "  <tbody>\n",
       "    <tr>\n",
       "      <th>881</th>\n",
       "      <td>897</td>\n",
       "      <td>хочу поменять магазин, что делать?</td>\n",
       "      <td>создайте заявку по теме \"перевод\" в списке зая...</td>\n",
       "      <td>перевод</td>\n",
       "      <td>хочу поменять магазин, что делать?</td>\n",
       "      <td>создайте заявку по теме \"перевод\" в списке зая...</td>\n",
       "      <td>перевод</td>\n",
       "    </tr>\n",
       "    <tr>\n",
       "      <th>764</th>\n",
       "      <td>779</td>\n",
       "      <td>если ежегодный отпуск совпал с отпуском по бер...</td>\n",
       "      <td>в случае пересечения ежегодного отпуска с отпу...</td>\n",
       "      <td>отпуск</td>\n",
       "      <td>если ежегодный отпуск совпал с отпуском по бер...</td>\n",
       "      <td>в случае пересечения ежегодного отпуска с отпу...</td>\n",
       "      <td>отпуск</td>\n",
       "    </tr>\n",
       "    <tr>\n",
       "      <th>1411</th>\n",
       "      <td>1430</td>\n",
       "      <td>здравствуйте могу ли я написать заявление об у...</td>\n",
       "      <td>напишите заявление на увольнение , шаблон есть...</td>\n",
       "      <td>увольнение</td>\n",
       "      <td>здравствуйте могу ли я написать заявление об у...</td>\n",
       "      <td>напишите заявление на увольнение , шаблон есть...</td>\n",
       "      <td>увольнение</td>\n",
       "    </tr>\n",
       "    <tr>\n",
       "      <th>100</th>\n",
       "      <td>100</td>\n",
       "      <td>где взять подпись на доверенность юриста</td>\n",
       "      <td>специалистами сф пб не производится подпись до...</td>\n",
       "      <td>доверенность</td>\n",
       "      <td>где взять подпись на доверенность юриста</td>\n",
       "      <td>специалистами сф пб не производится подпись до...</td>\n",
       "      <td>доверенность</td>\n",
       "    </tr>\n",
       "    <tr>\n",
       "      <th>24</th>\n",
       "      <td>24</td>\n",
       "      <td>возможно ли получить пособие по беременности и...</td>\n",
       "      <td>если вы работаете в нескольких местах, то може...</td>\n",
       "      <td>бир</td>\n",
       "      <td>возможно ли получить пособие по беременности и...</td>\n",
       "      <td>если вы работаете в нескольких местах, то може...</td>\n",
       "      <td>беременность и роды</td>\n",
       "    </tr>\n",
       "  </tbody>\n",
       "</table>\n",
       "</div>"
      ],
      "text/plain": [
       "      None                                           question  \\\n",
       "881    897                 хочу поменять магазин, что делать?   \n",
       "764    779  если ежегодный отпуск совпал с отпуском по бер...   \n",
       "1411  1430  здравствуйте могу ли я написать заявление об у...   \n",
       "100    100           где взять подпись на доверенность юриста   \n",
       "24      24  возможно ли получить пособие по беременности и...   \n",
       "\n",
       "                                                content      category  \\\n",
       "881   создайте заявку по теме \"перевод\" в списке зая...       перевод   \n",
       "764   в случае пересечения ежегодного отпуска с отпу...        отпуск   \n",
       "1411  напишите заявление на увольнение , шаблон есть...    увольнение   \n",
       "100   специалистами сф пб не производится подпись до...  доверенность   \n",
       "24    если вы работаете в нескольких местах, то може...           бир   \n",
       "\n",
       "                                       question_changed  \\\n",
       "881                  хочу поменять магазин, что делать?   \n",
       "764   если ежегодный отпуск совпал с отпуском по бер...   \n",
       "1411  здравствуйте могу ли я написать заявление об у...   \n",
       "100            где взять подпись на доверенность юриста   \n",
       "24    возможно ли получить пособие по беременности и...   \n",
       "\n",
       "                                        content_changed     category_changed  \n",
       "881   создайте заявку по теме \"перевод\" в списке зая...              перевод  \n",
       "764   в случае пересечения ежегодного отпуска с отпу...               отпуск  \n",
       "1411  напишите заявление на увольнение , шаблон есть...           увольнение  \n",
       "100   специалистами сф пб не производится подпись до...         доверенность  \n",
       "24    если вы работаете в нескольких местах, то може...  беременность и роды  "
      ]
     },
     "execution_count": 400,
     "metadata": {},
     "output_type": "execute_result"
    }
   ],
   "source": [
    "df_qa.sample(5)"
   ]
  },
  {
   "cell_type": "markdown",
   "id": "0f073433",
   "metadata": {},
   "source": [
    "# Catalogs"
   ]
  },
  {
   "cell_type": "code",
   "execution_count": 401,
   "id": "6811a0d6",
   "metadata": {
    "ExecuteTime": {
     "end_time": "2024-09-12T12:06:05.129905Z",
     "start_time": "2024-09-12T12:06:05.124088Z"
    }
   },
   "outputs": [],
   "source": [
    "catalogs = {\n",
    "    \"здоровье\": [\n",
    "        \"беременность и роды\",\n",
    "        \"больничный\",\n",
    "        \"справка\",\n",
    "        \"уход за больным\",\n",
    "        \"добровольное медицинское страхование\"\n",
    "    ],\n",
    "    \"аккаунт\": [\n",
    "        \"заявки\",\n",
    "        \"личный кабинет\",\n",
    "        \"поддержка\",\n",
    "        \"sed\",\n",
    "        \"табель\"\n",
    "    ],\n",
    "    \"оператор\": [\n",
    "        \"оператор\",\n",
    "    ],\n",
    "    \"финансы\": [\n",
    "        \"зарплата\",\n",
    "        \"материальная помощь\",\n",
    "        \"налоговый вычет\",\n",
    "        \"выручай-карта\",\n",
    "    ],\n",
    "    \"работа\": [\n",
    "        \"график работы\",\n",
    "        \"командировка\",\n",
    "        \"моя карьера\",\n",
    "        \"отгул\",\n",
    "        \"отпуск\",\n",
    "        \"перевод\",\n",
    "        \"прием на работу\",\n",
    "        \"увольнение\",\n",
    "        \"удаленная работа\",\n",
    "        \"обучение\"\n",
    "    ],\n",
    "    \"документы\": [\n",
    "        \"доверенность\",\n",
    "        \"машиночитаемая доверенность\",\n",
    "        \"электронная цифровая подпись\",\n",
    "        \"документооборот\",\n",
    "        \"сб\",\n",
    "        \"автомобиль\"\n",
    "    ]\n",
    "}\n"
   ]
  },
  {
   "cell_type": "code",
   "execution_count": 402,
   "id": "94bdb7e3",
   "metadata": {
    "ExecuteTime": {
     "end_time": "2024-09-12T12:06:06.265239Z",
     "start_time": "2024-09-12T12:06:06.194168Z"
    }
   },
   "outputs": [
    {
     "data": {
      "text/plain": [
       "{'беременность и роды': 'здоровье',\n",
       " 'больничный': 'здоровье',\n",
       " 'справка': 'здоровье',\n",
       " 'уход за больным': 'здоровье',\n",
       " 'добровольное медицинское страхование': 'здоровье',\n",
       " 'заявки': 'аккаунт',\n",
       " 'личный кабинет': 'аккаунт',\n",
       " 'поддержка': 'аккаунт',\n",
       " 'sed': 'аккаунт',\n",
       " 'табель': 'аккаунт',\n",
       " 'оператор': 'оператор',\n",
       " 'зарплата': 'финансы',\n",
       " 'материальная помощь': 'финансы',\n",
       " 'налоговый вычет': 'финансы',\n",
       " 'выручай-карта': 'финансы',\n",
       " 'график работы': 'работа',\n",
       " 'командировка': 'работа',\n",
       " 'моя карьера': 'работа',\n",
       " 'отгул': 'работа',\n",
       " 'отпуск': 'работа',\n",
       " 'перевод': 'работа',\n",
       " 'прием на работу': 'работа',\n",
       " 'увольнение': 'работа',\n",
       " 'удаленная работа': 'работа',\n",
       " 'обучение': 'работа',\n",
       " 'доверенность': 'документы',\n",
       " 'машиночитаемая доверенность': 'документы',\n",
       " 'электронная цифровая подпись': 'документы',\n",
       " 'документооборот': 'документы',\n",
       " 'сб': 'документы',\n",
       " 'автомобиль': 'документы'}"
      ]
     },
     "execution_count": 402,
     "metadata": {},
     "output_type": "execute_result"
    }
   ],
   "source": [
    "reversed_catalogs = {}\n",
    "for key, values in catalogs.items():\n",
    "    for value in values:\n",
    "        reversed_catalogs[value] = key\n",
    "reversed_catalogs"
   ]
  },
  {
   "cell_type": "code",
   "execution_count": 403,
   "id": "a1f64a6a",
   "metadata": {
    "ExecuteTime": {
     "end_time": "2024-09-12T12:06:11.841063Z",
     "start_time": "2024-09-12T12:06:11.821127Z"
    }
   },
   "outputs": [
    {
     "data": {
      "text/html": [
       "<div>\n",
       "<style scoped>\n",
       "    .dataframe tbody tr th:only-of-type {\n",
       "        vertical-align: middle;\n",
       "    }\n",
       "\n",
       "    .dataframe tbody tr th {\n",
       "        vertical-align: top;\n",
       "    }\n",
       "\n",
       "    .dataframe thead th {\n",
       "        text-align: right;\n",
       "    }\n",
       "</style>\n",
       "<table border=\"1\" class=\"dataframe\">\n",
       "  <thead>\n",
       "    <tr style=\"text-align: right;\">\n",
       "      <th></th>\n",
       "      <th>None</th>\n",
       "      <th>question</th>\n",
       "      <th>content</th>\n",
       "      <th>category</th>\n",
       "      <th>question_changed</th>\n",
       "      <th>content_changed</th>\n",
       "      <th>category_changed</th>\n",
       "      <th>catalog</th>\n",
       "    </tr>\n",
       "  </thead>\n",
       "  <tbody>\n",
       "    <tr>\n",
       "      <th>436</th>\n",
       "      <td>468</td>\n",
       "      <td>нет пароля</td>\n",
       "      <td>при проблемах со входом в личный кабинет, преж...</td>\n",
       "      <td>лк</td>\n",
       "      <td>нет пароля</td>\n",
       "      <td>при проблемах со входом в личный кабинет, преж...</td>\n",
       "      <td>личный кабинет</td>\n",
       "      <td>аккаунт</td>\n",
       "    </tr>\n",
       "    <tr>\n",
       "      <th>981</th>\n",
       "      <td>1041</td>\n",
       "      <td>отсутствует ярлык отпуск без сохранения з/п</td>\n",
       "      <td>создайте, пожалуйста, обращение в ит поддержку...</td>\n",
       "      <td>поддержка</td>\n",
       "      <td>отсутствует ярлык отпуск без сохранения зарплата</td>\n",
       "      <td>создайте, пожалуйста, обращение в ит поддержку...</td>\n",
       "      <td>поддержка</td>\n",
       "      <td>аккаунт</td>\n",
       "    </tr>\n",
       "    <tr>\n",
       "      <th>8</th>\n",
       "      <td>8</td>\n",
       "      <td>будет ли оплачен больничный, если он открыт в ...</td>\n",
       "      <td>сотруднику следует обратиться в мед. организац...</td>\n",
       "      <td>бир</td>\n",
       "      <td>будет ли оплачен больничный, если он открыт в ...</td>\n",
       "      <td>сотруднику следует обратиться в мед. организац...</td>\n",
       "      <td>беременность и роды</td>\n",
       "      <td>здоровье</td>\n",
       "    </tr>\n",
       "    <tr>\n",
       "      <th>1293</th>\n",
       "      <td>1360</td>\n",
       "      <td>в лк нет доступа для заяврк на сотрудников маг...</td>\n",
       "      <td>если в \"команде\" нет подчиненных сотрудников п...</td>\n",
       "      <td>табель</td>\n",
       "      <td>в личный кабинет нет доступа для заяврк на сот...</td>\n",
       "      <td>если в \"команде\" нет подчиненных сотрудников п...</td>\n",
       "      <td>табель</td>\n",
       "      <td>аккаунт</td>\n",
       "    </tr>\n",
       "    <tr>\n",
       "      <th>338</th>\n",
       "      <td>340</td>\n",
       "      <td>не прогружаются данные на сотрудника</td>\n",
       "      <td>если сотрудник трудоустроен сегодня, данные о ...</td>\n",
       "      <td>лк</td>\n",
       "      <td>не прогружаются данные на сотрудника</td>\n",
       "      <td>если сотрудник трудоустроен сегодня, данные о ...</td>\n",
       "      <td>личный кабинет</td>\n",
       "      <td>аккаунт</td>\n",
       "    </tr>\n",
       "  </tbody>\n",
       "</table>\n",
       "</div>"
      ],
      "text/plain": [
       "      None                                           question  \\\n",
       "436    468                                         нет пароля   \n",
       "981   1041        отсутствует ярлык отпуск без сохранения з/п   \n",
       "8        8  будет ли оплачен больничный, если он открыт в ...   \n",
       "1293  1360  в лк нет доступа для заяврк на сотрудников маг...   \n",
       "338    340               не прогружаются данные на сотрудника   \n",
       "\n",
       "                                                content   category  \\\n",
       "436   при проблемах со входом в личный кабинет, преж...         лк   \n",
       "981   создайте, пожалуйста, обращение в ит поддержку...  поддержка   \n",
       "8     сотруднику следует обратиться в мед. организац...        бир   \n",
       "1293  если в \"команде\" нет подчиненных сотрудников п...     табель   \n",
       "338   если сотрудник трудоустроен сегодня, данные о ...         лк   \n",
       "\n",
       "                                       question_changed  \\\n",
       "436                                          нет пароля   \n",
       "981    отсутствует ярлык отпуск без сохранения зарплата   \n",
       "8     будет ли оплачен больничный, если он открыт в ...   \n",
       "1293  в личный кабинет нет доступа для заяврк на сот...   \n",
       "338                не прогружаются данные на сотрудника   \n",
       "\n",
       "                                        content_changed     category_changed  \\\n",
       "436   при проблемах со входом в личный кабинет, преж...       личный кабинет   \n",
       "981   создайте, пожалуйста, обращение в ит поддержку...            поддержка   \n",
       "8     сотруднику следует обратиться в мед. организац...  беременность и роды   \n",
       "1293  если в \"команде\" нет подчиненных сотрудников п...               табель   \n",
       "338   если сотрудник трудоустроен сегодня, данные о ...       личный кабинет   \n",
       "\n",
       "       catalog  \n",
       "436    аккаунт  \n",
       "981    аккаунт  \n",
       "8     здоровье  \n",
       "1293   аккаунт  \n",
       "338    аккаунт  "
      ]
     },
     "execution_count": 403,
     "metadata": {},
     "output_type": "execute_result"
    }
   ],
   "source": [
    "df_catalogs = pd.DataFrame(list(reversed_catalogs.items()), columns=['category_changed', 'catalog'])\n",
    "if ('catalog' not in df_qa.columns):\n",
    "    df_qa=df_qa.merge(df_catalogs,how='left', on='category_changed')\n",
    "df_qa.sample(5)"
   ]
  },
  {
   "cell_type": "code",
   "execution_count": 404,
   "id": "f826046a",
   "metadata": {
    "ExecuteTime": {
     "end_time": "2024-09-12T12:06:25.365907Z",
     "start_time": "2024-09-12T12:06:25.352073Z"
    }
   },
   "outputs": [
    {
     "name": "stdout",
     "output_type": "stream",
     "text": [
      "<class 'pandas.core.frame.DataFrame'>\n",
      "RangeIndex: 1627 entries, 0 to 1626\n",
      "Data columns (total 8 columns):\n",
      " #   Column            Non-Null Count  Dtype \n",
      "---  ------            --------------  ----- \n",
      " 0   None              1627 non-null   int64 \n",
      " 1   question          1627 non-null   object\n",
      " 2   content           1627 non-null   object\n",
      " 3   category          1627 non-null   object\n",
      " 4   question_changed  1627 non-null   object\n",
      " 5   content_changed   1627 non-null   object\n",
      " 6   category_changed  1627 non-null   object\n",
      " 7   catalog           1627 non-null   object\n",
      "dtypes: int64(1), object(7)\n",
      "memory usage: 101.8+ KB\n"
     ]
    }
   ],
   "source": [
    "df_qa.info()"
   ]
  },
  {
   "cell_type": "code",
   "execution_count": 405,
   "id": "6a08118f",
   "metadata": {
    "ExecuteTime": {
     "end_time": "2024-09-12T12:06:28.772219Z",
     "start_time": "2024-09-12T12:06:28.764517Z"
    }
   },
   "outputs": [
    {
     "data": {
      "text/plain": [
       "catalog\n",
       "аккаунт      929\n",
       "работа       467\n",
       "здоровье      88\n",
       "документы     72\n",
       "финансы       66\n",
       "оператор       5\n",
       "Name: count, dtype: int64"
      ]
     },
     "execution_count": 405,
     "metadata": {},
     "output_type": "execute_result"
    }
   ],
   "source": [
    "df_qa.catalog.value_counts()"
   ]
  },
  {
   "cell_type": "code",
   "execution_count": 406,
   "id": "cfa6f0fb",
   "metadata": {
    "ExecuteTime": {
     "end_time": "2024-09-12T12:06:29.541591Z",
     "start_time": "2024-09-12T12:06:29.532025Z"
    }
   },
   "outputs": [
    {
     "data": {
      "text/plain": [
       "1652    3\n",
       "0       1\n",
       "1141    1\n",
       "1151    1\n",
       "1150    1\n",
       "       ..\n",
       "583     1\n",
       "582     1\n",
       "581     1\n",
       "580     1\n",
       "1706    1\n",
       "Name: count, Length: 1625, dtype: int64"
      ]
     },
     "execution_count": 406,
     "metadata": {},
     "output_type": "execute_result"
    }
   ],
   "source": [
    "df_qa[None].value_counts()"
   ]
  },
  {
   "cell_type": "code",
   "execution_count": 351,
   "id": "609ed1a0",
   "metadata": {
    "ExecuteTime": {
     "end_time": "2024-09-12T11:49:10.076099Z",
     "start_time": "2024-09-12T11:49:10.063869Z"
    }
   },
   "outputs": [
    {
     "data": {
      "text/html": [
       "<div>\n",
       "<style scoped>\n",
       "    .dataframe tbody tr th:only-of-type {\n",
       "        vertical-align: middle;\n",
       "    }\n",
       "\n",
       "    .dataframe tbody tr th {\n",
       "        vertical-align: top;\n",
       "    }\n",
       "\n",
       "    .dataframe thead th {\n",
       "        text-align: right;\n",
       "    }\n",
       "</style>\n",
       "<table border=\"1\" class=\"dataframe\">\n",
       "  <thead>\n",
       "    <tr style=\"text-align: right;\">\n",
       "      <th></th>\n",
       "      <th>None</th>\n",
       "      <th>question</th>\n",
       "      <th>content</th>\n",
       "      <th>category</th>\n",
       "      <th>question_changed</th>\n",
       "      <th>content_changed</th>\n",
       "      <th>category_changed</th>\n",
       "      <th>catalog</th>\n",
       "    </tr>\n",
       "  </thead>\n",
       "  <tbody>\n",
       "    <tr>\n",
       "      <th>1583</th>\n",
       "      <td>1652</td>\n",
       "      <td>уйди</td>\n",
       "      <td>для оформления обращения в техническую поддерж...</td>\n",
       "      <td>оператор</td>\n",
       "      <td>уйди</td>\n",
       "      <td>для оформления обращения в техническую поддерж...</td>\n",
       "      <td>оператор</td>\n",
       "      <td>оператор</td>\n",
       "    </tr>\n",
       "    <tr>\n",
       "      <th>1584</th>\n",
       "      <td>1652</td>\n",
       "      <td>оператор</td>\n",
       "      <td>для оформления обращения в техническую поддерж...</td>\n",
       "      <td>оператор</td>\n",
       "      <td>оператор</td>\n",
       "      <td>для оформления обращения в техническую поддерж...</td>\n",
       "      <td>оператор</td>\n",
       "      <td>оператор</td>\n",
       "    </tr>\n",
       "    <tr>\n",
       "      <th>1585</th>\n",
       "      <td>1652</td>\n",
       "      <td>нужен оператор</td>\n",
       "      <td>для оформления обращения в техническую поддерж...</td>\n",
       "      <td>оператор</td>\n",
       "      <td>нужен оператор</td>\n",
       "      <td>для оформления обращения в техническую поддерж...</td>\n",
       "      <td>оператор</td>\n",
       "      <td>оператор</td>\n",
       "    </tr>\n",
       "    <tr>\n",
       "      <th>1587</th>\n",
       "      <td>1654</td>\n",
       "      <td>номер телефона службы поддержки</td>\n",
       "      <td>для оформления обращения в техническую поддерж...</td>\n",
       "      <td>оператор</td>\n",
       "      <td>номер телефона службы поддержки</td>\n",
       "      <td>для оформления обращения в техническую поддерж...</td>\n",
       "      <td>оператор</td>\n",
       "      <td>оператор</td>\n",
       "    </tr>\n",
       "    <tr>\n",
       "      <th>1611</th>\n",
       "      <td>1688</td>\n",
       "      <td>в какую службу поддержки обратиться по личному...</td>\n",
       "      <td>для оформления обращения в техническую поддерж...</td>\n",
       "      <td>оператор</td>\n",
       "      <td>в какую службу поддержки обратиться по личному...</td>\n",
       "      <td>для оформления обращения в техническую поддерж...</td>\n",
       "      <td>оператор</td>\n",
       "      <td>оператор</td>\n",
       "    </tr>\n",
       "  </tbody>\n",
       "</table>\n",
       "</div>"
      ],
      "text/plain": [
       "      None                                           question  \\\n",
       "1583  1652                                               уйди   \n",
       "1584  1652                                           оператор   \n",
       "1585  1652                                     нужен оператор   \n",
       "1587  1654                    номер телефона службы поддержки   \n",
       "1611  1688  в какую службу поддержки обратиться по личному...   \n",
       "\n",
       "                                                content  category  \\\n",
       "1583  для оформления обращения в техническую поддерж...  оператор   \n",
       "1584  для оформления обращения в техническую поддерж...  оператор   \n",
       "1585  для оформления обращения в техническую поддерж...  оператор   \n",
       "1587  для оформления обращения в техническую поддерж...  оператор   \n",
       "1611  для оформления обращения в техническую поддерж...  оператор   \n",
       "\n",
       "                                       question_changed  \\\n",
       "1583                                               уйди   \n",
       "1584                                           оператор   \n",
       "1585                                     нужен оператор   \n",
       "1587                    номер телефона службы поддержки   \n",
       "1611  в какую службу поддержки обратиться по личному...   \n",
       "\n",
       "                                        content_changed category_changed  \\\n",
       "1583  для оформления обращения в техническую поддерж...         оператор   \n",
       "1584  для оформления обращения в техническую поддерж...         оператор   \n",
       "1585  для оформления обращения в техническую поддерж...         оператор   \n",
       "1587  для оформления обращения в техническую поддерж...         оператор   \n",
       "1611  для оформления обращения в техническую поддерж...         оператор   \n",
       "\n",
       "       catalog  \n",
       "1583  оператор  \n",
       "1584  оператор  \n",
       "1585  оператор  \n",
       "1587  оператор  \n",
       "1611  оператор  "
      ]
     },
     "execution_count": 351,
     "metadata": {},
     "output_type": "execute_result"
    }
   ],
   "source": [
    "df_qa.loc[(df_qa.catalog == 'оператор')]"
   ]
  },
  {
   "cell_type": "code",
   "execution_count": 407,
   "id": "6888dbc1",
   "metadata": {
    "ExecuteTime": {
     "end_time": "2024-09-12T12:06:46.053783Z",
     "start_time": "2024-09-12T12:06:46.046659Z"
    }
   },
   "outputs": [
    {
     "data": {
      "text/plain": [
       "category_changed\n",
       "личный кабинет                          444\n",
       "поддержка                               271\n",
       "табель                                  166\n",
       "отпуск                                  119\n",
       "удаленная работа                         98\n",
       "увольнение                               60\n",
       "моя карьера                              53\n",
       "беременность и роды                      50\n",
       "прием на работу                          48\n",
       "отгул                                    48\n",
       "заявки                                   47\n",
       "зарплата                                 45\n",
       "электронная цифровая подпись             33\n",
       "график работы                            28\n",
       "документооборот                          22\n",
       "больничный                               17\n",
       "налоговый вычет                          12\n",
       "справка                                   9\n",
       "уход за больным                           9\n",
       "материальная помощь                       8\n",
       "автомобиль                                8\n",
       "доверенность                              7\n",
       "обучение                                  6\n",
       "командировка                              5\n",
       "оператор                                  5\n",
       "добровольное медицинское страхование      3\n",
       "перевод                                   2\n",
       "сб                                        1\n",
       "машиночитаемая доверенность               1\n",
       "sed                                       1\n",
       "выручай-карта                             1\n",
       "Name: count, dtype: int64"
      ]
     },
     "execution_count": 407,
     "metadata": {},
     "output_type": "execute_result"
    }
   ],
   "source": [
    "df_qa.category_changed.value_counts()"
   ]
  },
  {
   "cell_type": "code",
   "execution_count": 408,
   "id": "ccb39603",
   "metadata": {
    "ExecuteTime": {
     "end_time": "2024-09-12T12:06:47.217829Z",
     "start_time": "2024-09-12T12:06:47.208879Z"
    }
   },
   "outputs": [
    {
     "data": {
      "text/plain": [
       "content\n",
       "при проблемах со входом в личный кабинет, прежде чем создавать заявку в поддержку, убедитесь, что заходите в лк на сайте https://company-x5.ru, указываете актуальные и верные логин и пароль. если вам неизвестен логин, обратитесь к руководителю (дм), он сможет посмотреть ваш логин и сбросить пароль в веб-табеле. для самостоятельного сброса пароля позвоните с вашего мобильного телефона на +7 (xxx) xxx xx xx, наберите добавочный номер 10100, нажмите * и подтвердите сброс пароля, нажав #. обновленный пароль отправляется по sms.        249\n",
       "кнопка \"изменить номер\" телефона находится в личном разделе в лк. если доступа к лк нет, для смены номера телефона, обратитесь в поддержку                                                                                                                                                                                                                                                                                                                                                                                                                53\n",
       "первым делом, просьба очистить кэш/куки браузера (сочетание клавиш ctrl+shift+del, выбрать \"удалить: всё\", нажать ок). далее перезайти в лк. если это не помогло просьба подать заявку, нажав ниже кнопку \"создать заявку\" и выбрать соответствующую тему.                                                                                                                                                                                                                                                                                                40\n",
       "по данному вопросу вы можете обратиться в кадровую службу, создав заявку \"консультация по hr вопросам\"                                                                                                                                                                                                                                                                                                                                                                                                                                                    35\n",
       "если сотрудник трудоустроен сегодня, данные о нем в оргструктуре появятся завтра, как и возможность создать на него заявку в лк                                                                                                                                                                                                                                                                                                                                                                                                                           13\n",
       "просьба очистить кеш/куки с использованием клавиш ctrl + shift + delete. при появлении окошка с настройками в разделе \"за период\" выбрать \"за все время\". далее выйти с личного кабинета с использованием клавиши \"выход\" и авторизоваться повторно введя логин и пароль.                                                                                                                                                                                                                                                                                  9\n",
       "вкладка \"график работы\" недоступна сотрудникам с организационным присвоением \"офис\" и на данный момент доступна только сотрудникам розницы.                                                                                                                                                                                                                                                                                                                                                                                                                8\n",
       "при проблемах со входом в личный кабинет, прежде чем создавать заявку в поддержку, убедитесь, что заходите в лк на сайте https://company-x5.ru, указываете актуальные и верные логин и пароль.\\nесли вам неизвестен логин, обратитесь к руководителю (дм), он сможет посмотреть ваш логин и сбросить пароль в веб-табеле.\\nдля самостоятельного сброса пароля позвоните с вашего мобильного телефона на +7 (xxx) xxx xx xx, наберите добавочный номер 10100, нажмите * и подтвердите сброс пароля, нажав #.\\nобновленный пароль отправляется по sms.       5\n",
       "процесс планирования и согласования проходит через обновленный личный кабинет «х5 мои сервисы» https://company-x5.ru как запланировать отпуск: 1. войдите на портал https://company-x5.ru . выберите раздел «задачи». 2. нажмите на задачу «планирование графика отпусков». 3. выберите необходимые даты. 4. нажмите кнопку «отправить». 5. готово. график ушел на согласование руководителю.                                                                                                                                                              4\n",
       "если сотрудник архива не выполнил задача \"подтвердить получение документов\", заявка возвращается на шаг фронт-офиса, при этом создается новая задача. такая логика процесса утверждена и согласована с представителями от бизнеса                                                                                                                                                                                                                                                                                                                          3\n",
       "Name: count, dtype: int64"
      ]
     },
     "execution_count": 408,
     "metadata": {},
     "output_type": "execute_result"
    }
   ],
   "source": [
    "df_qa[df_qa.category == 'лк'].content.value_counts()[:10:]"
   ]
  },
  {
   "cell_type": "code",
   "execution_count": 410,
   "id": "c76b1711",
   "metadata": {
    "ExecuteTime": {
     "end_time": "2024-09-12T12:34:09.874173Z",
     "start_time": "2024-09-12T12:34:09.721591Z"
    }
   },
   "outputs": [],
   "source": [
    "df_qa.to_csv('data_qa_processed.csv', index=False)"
   ]
  },
  {
   "cell_type": "code",
   "execution_count": null,
   "id": "40fbc44d",
   "metadata": {},
   "outputs": [],
   "source": []
  }
 ],
 "metadata": {
  "kernelspec": {
   "display_name": "Python 3 (ipykernel)",
   "language": "python",
   "name": "python3"
  },
  "language_info": {
   "codemirror_mode": {
    "name": "ipython",
    "version": 3
   },
   "file_extension": ".py",
   "mimetype": "text/x-python",
   "name": "python",
   "nbconvert_exporter": "python",
   "pygments_lexer": "ipython3",
   "version": "3.11.5"
  },
  "varInspector": {
   "cols": {
    "lenName": 16,
    "lenType": 16,
    "lenVar": 40
   },
   "kernels_config": {
    "python": {
     "delete_cmd_postfix": "",
     "delete_cmd_prefix": "del ",
     "library": "var_list.py",
     "varRefreshCmd": "print(var_dic_list())"
    },
    "r": {
     "delete_cmd_postfix": ") ",
     "delete_cmd_prefix": "rm(",
     "library": "var_list.r",
     "varRefreshCmd": "cat(var_dic_list()) "
    }
   },
   "types_to_exclude": [
    "module",
    "function",
    "builtin_function_or_method",
    "instance",
    "_Feature"
   ],
   "window_display": false
  }
 },
 "nbformat": 4,
 "nbformat_minor": 5
}
