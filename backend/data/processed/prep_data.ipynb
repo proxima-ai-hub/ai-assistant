{
 "cells": [
  {
   "cell_type": "code",
   "execution_count": 5,
   "metadata": {},
   "outputs": [],
   "source": [
    "from openpyxl import load_workbook\n",
    "import pandas as pd\n",
    "workbook = load_workbook('../raw/raw_data.xlsx')\n",
    "sheet_names = workbook.sheetnames"
   ]
  },
  {
   "cell_type": "code",
   "execution_count": null,
   "metadata": {},
   "outputs": [],
   "source": []
  },
  {
   "cell_type": "code",
   "execution_count": 7,
   "metadata": {},
   "outputs": [],
   "source": [
    "data = []\n",
    "sheet = workbook[sheet_names[1]]\n",
    "for row in sheet.iter_rows(values_only=True):\n",
    "    data.append(row)\n",
    "df_qa = pd.DataFrame(data[1:], columns=data[0])\n",
    "df_qa.to_csv('data_qa.csv')"
   ]
  },
  {
   "cell_type": "code",
   "execution_count": 8,
   "metadata": {},
   "outputs": [],
   "source": [
    "data = []\n",
    "sheet = workbook[sheet_names[2]]\n",
    "for row in sheet.iter_rows(values_only=True):\n",
    "    data.append(row)\n",
    "df_glossary = pd.DataFrame(data[1:], columns=data[0])\n",
    "df_glossary.to_csv('data_glossary.csv')"
   ]
  },
  {
   "cell_type": "code",
   "execution_count": 11,
   "metadata": {},
   "outputs": [],
   "source": [
    "data = []\n",
    "sheet = workbook[sheet_names[0]]\n",
    "for row in sheet.iter_rows(values_only=True):\n",
    "    data.append(row)\n",
    "df_glossary = pd.DataFrame(data[1:], columns=data[0])\n",
    "df_glossary.to_csv('data_qa_popular.csv')"
   ]
  }
 ],
 "metadata": {
  "kernelspec": {
   "display_name": "env_base",
   "language": "python",
   "name": "python3"
  },
  "language_info": {
   "codemirror_mode": {
    "name": "ipython",
    "version": 3
   },
   "file_extension": ".py",
   "mimetype": "text/x-python",
   "name": "python",
   "nbconvert_exporter": "python",
   "pygments_lexer": "ipython3",
   "version": "3.9.18"
  }
 },
 "nbformat": 4,
 "nbformat_minor": 2
}
